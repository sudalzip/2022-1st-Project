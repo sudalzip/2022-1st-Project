{
  "nbformat": 4,
  "nbformat_minor": 0,
  "metadata": {
    "colab": {
      "name": "5주차 과제(욱쓰).ipynb",
      "provenance": [],
      "authorship_tag": "ABX9TyMuCBzyzc9I+rQf0knhwsiS",
      "include_colab_link": true
    },
    "kernelspec": {
      "name": "python3",
      "display_name": "Python 3"
    },
    "language_info": {
      "name": "python"
    }
  },
  "cells": [
    {
      "cell_type": "markdown",
      "metadata": {
        "id": "view-in-github",
        "colab_type": "text"
      },
      "source": [
        "<a href=\"https://colab.research.google.com/github/sudalzip/2022-1st-Project/blob/main/5%EC%A3%BC%EC%B0%A8_%EA%B3%BC%EC%A0%9C(%EC%9A%B1%EC%93%B0).ipynb\" target=\"_parent\"><img src=\"https://colab.research.google.com/assets/colab-badge.svg\" alt=\"Open In Colab\"/></a>"
      ]
    },
    {
      "cell_type": "code",
      "execution_count": 2,
      "metadata": {
        "colab": {
          "base_uri": "https://localhost:8080/"
        },
        "id": "l-4IitruGLvI",
        "outputId": "fda0ee35-3963-4c01-c3f8-1412eff7a763"
      },
      "outputs": [
        {
          "output_type": "stream",
          "name": "stdout",
          "text": [
            "Cloning into '2022-1st-Project'...\n",
            "remote: Enumerating objects: 22, done.\u001b[K\n",
            "remote: Counting objects: 100% (22/22), done.\u001b[K\n",
            "remote: Compressing objects: 100% (17/17), done.\u001b[K\n",
            "remote: Total 22 (delta 2), reused 0 (delta 0), pack-reused 0\u001b[K\n",
            "Unpacking objects: 100% (22/22), done.\n"
          ]
        }
      ],
      "source": [
        "!git clone https://github.com/sudalzip/2022-1st-Project\n"
      ]
    },
    {
      "cell_type": "code",
      "source": [
        "ls"
      ],
      "metadata": {
        "colab": {
          "base_uri": "https://localhost:8080/"
        },
        "id": "b6Rn-naBaxDg",
        "outputId": "ed278d70-19fb-4a69-db74-9d207808c3bc"
      },
      "execution_count": 4,
      "outputs": [
        {
          "output_type": "stream",
          "name": "stdout",
          "text": [
            "\u001b[0m\u001b[01;34m2022-1st-Project\u001b[0m/  \u001b[01;34msample_data\u001b[0m/\n"
          ]
        }
      ]
    },
    {
      "cell_type": "code",
      "source": [
        "cd 2022-1st-Project"
      ],
      "metadata": {
        "colab": {
          "base_uri": "https://localhost:8080/"
        },
        "id": "vLMHtHR7azfY",
        "outputId": "03cf15ab-118b-471f-e3f5-2a08b58a4930"
      },
      "execution_count": 5,
      "outputs": [
        {
          "output_type": "stream",
          "name": "stdout",
          "text": [
            "/content/2022-1st-Project\n"
          ]
        }
      ]
    },
    {
      "cell_type": "code",
      "source": [
        "# 한글 폰트 설치\n",
        "!apt-get install fonts-nanum -qq > /dev/null\n",
        "!fc-cache -fv\n",
        "import matplotlib as mpl\n",
        "mpl.font_manager._rebuild()\n",
        "findfont = mpl.font_manager.fontManager.findfont\n",
        "mpl.font_manager.findfont = findfont\n",
        "mpl.backends.backend_agg.findfont = findfont\n",
        "\n",
        "# 글꼴 설정, 마이너스 깨짐 해결\n",
        "import matplotlib.pyplot as plt\n",
        "plt.rc('font', family = 'NanumGothic')\n",
        "plt.rcParams['axes.unicode_minus'] = False\n",
        "plt.title('한글제목')\n",
        "plt.plot([-1,0,1])\n",
        "plt.show()\n"
      ],
      "metadata": {
        "colab": {
          "base_uri": "https://localhost:8080/",
          "height": 497
        },
        "id": "HXnlFTEIGe71",
        "outputId": "7053182d-c00a-4045-9c3b-9eb105b2a515"
      },
      "execution_count": 7,
      "outputs": [
        {
          "output_type": "stream",
          "name": "stdout",
          "text": [
            "/usr/share/fonts: caching, new cache contents: 0 fonts, 1 dirs\n",
            "/usr/share/fonts/truetype: caching, new cache contents: 0 fonts, 3 dirs\n",
            "/usr/share/fonts/truetype/humor-sans: caching, new cache contents: 1 fonts, 0 dirs\n",
            "/usr/share/fonts/truetype/liberation: caching, new cache contents: 16 fonts, 0 dirs\n",
            "/usr/share/fonts/truetype/nanum: caching, new cache contents: 10 fonts, 0 dirs\n",
            "/usr/local/share/fonts: caching, new cache contents: 0 fonts, 0 dirs\n",
            "/root/.local/share/fonts: skipping, no such directory\n",
            "/root/.fonts: skipping, no such directory\n",
            "/var/cache/fontconfig: cleaning cache directory\n",
            "/root/.cache/fontconfig: not cleaning non-existent cache directory\n",
            "/root/.fontconfig: not cleaning non-existent cache directory\n",
            "fc-cache: succeeded\n"
          ]
        },
        {
          "output_type": "display_data",
          "data": {
            "text/plain": [
              "<Figure size 432x288 with 1 Axes>"
            ],
            "image/png": "[encoded data removed]"
          },
          "metadata": {
            "needs_background": "light"
          }
        }
      ]
    },
    {
      "cell_type": "code",
      "source": [
        "import csv\n",
        "data1 = csv.reader(open('age201207.csv'))\n",
        "data2 = csv.reader(open('age202207.csv'))\n",
        "x1 = []\n",
        "x2 = []\n",
        "\n",
        "name = input('만 19세 이하 인구구조 변화가 궁금한 지역을 입력해주세요 : ')\n",
        "\n",
        "for row in data1:\n",
        "  if name in row[0]:\n",
        "\n",
        "    for i in range(3, 23):\n",
        "      x1.append(int(row[i]))\n",
        "    break\n",
        "\n",
        "for row in data2:\n",
        "  if name in row[0]:\n",
        "\n",
        "    for i in range(3, 23):\n",
        "      x2.append(int(row[i]))\n",
        "    break\n",
        "\n",
        "c = []\n",
        "\n",
        "for i in range(0,19):\n",
        "  c.append(int(x1[i])-int(x2[i]))\n",
        "\n",
        "import matplotlib.pyplot as plt\n",
        "plt.plot(x1, label = '2012', c = 'blue')\n",
        "plt.plot(x2, label = '2022', c = 'red')\n",
        "plt.plot(c, label = '감소선', c = 'green')\n",
        "plt.hlines(0,0,19, color = 'gray', linestyles = 'solid', linewidth =2 )\n",
        "plt.title(name + '지역의 만 19세 이하 인구구조 변화')\n",
        "plt.legend()\n",
        "\n",
        "plt.show()\n",
        "print('감소선이 높으면 해당 연령에서 인구가 줄어든 것입니다.')\n",
        "print('감소선이 낮으면 해당 연령에서 인구가 늘어난 것입니다.')"
      ],
      "metadata": {
        "colab": {
          "base_uri": "https://localhost:8080/",
          "height": 333
        },
        "id": "vHUoar1cG2Cm",
        "outputId": "6c313d7a-a255-44f1-88ab-d2b9508b31ba"
      },
      "execution_count": 37,
      "outputs": [
        {
          "name": "stdout",
          "output_type": "stream",
          "text": [
            "만 19세 이하 인구구조 변화가 궁금한 지역을 입력해주세요 : 명석면\n"
          ]
        },
        {
          "output_type": "display_data",
          "data": {
            "text/plain": [
              "<Figure size 432x288 with 1 Axes>"
            ],
            "image/png": "[encoded data removed]"
          },
          "metadata": {
            "needs_background": "light"
          }
        },
        {
          "output_type": "stream",
          "name": "stdout",
          "text": [
            "감소선이 높으면 해당 연령에서 인구가 줄어든 것입니다.\n",
            "감소선이 낮으면 해당 연령에서 인구가 늘어난 것입니다.\n"
          ]
        }
      ]
    },
    {
      "cell_type": "code",
      "source": [
        ""
      ],
      "metadata": {
        "id": "BJ9sK2HtMJt1"
      },
      "execution_count": null,
      "outputs": []
    },
    {
      "cell_type": "code",
      "source": [
        ""
      ],
      "metadata": {
        "id": "F9o8J6-rO8i-"
      },
      "execution_count": null,
      "outputs": []
    }
  ]
}