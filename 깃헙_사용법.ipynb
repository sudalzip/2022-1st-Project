{
  "nbformat": 4,
  "nbformat_minor": 0,
  "metadata": {
    "colab": {
      "name": "깃헙 사용법.ipynb",
      "provenance": [],
      "authorship_tag": "ABX9TyPDOt+T8H3I3SBUN2+xjczR",
      "include_colab_link": true
    },
    "kernelspec": {
      "name": "python3",
      "display_name": "Python 3"
    },
    "language_info": {
      "name": "python"
    }
  },
  "cells": [
    {
      "cell_type": "markdown",
      "metadata": {
        "id": "view-in-github",
        "colab_type": "text"
      },
      "source": [
        "<a href=\"https://colab.research.google.com/github/sudalzip/2022-dataset/blob/main/%EA%B9%83%ED%97%99_%EC%82%AC%EC%9A%A9%EB%B2%95.ipynb\" target=\"_parent\"><img src=\"https://colab.research.google.com/assets/colab-badge.svg\" alt=\"Open In Colab\"/></a>"
      ]
    },
    {
      "cell_type": "code",
      "execution_count": null,
      "metadata": {
        "id": "pOOCH4O8285G"
      },
      "outputs": [],
      "source": [
        "print('테스트용입니다.')"
      ]
    }
  ]
}